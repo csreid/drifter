{
 "cells": [
  {
   "cell_type": "code",
   "execution_count": 19,
   "id": "79ea75fa-e0d7-49bc-b9d1-8cf265a53e69",
   "metadata": {},
   "outputs": [],
   "source": [
    "import pandas as pd\n",
    "import numpy as np\n",
    "from memory import obs_diff\n",
    "import matplotlib.pyplot as plt\n",
    "\n",
    "df = pd.read_csv(\"transitions.csv\")"
   ]
  },
  {
   "cell_type": "code",
   "execution_count": 13,
   "id": "dfcb2d37-2161-4499-a645-95105021fca5",
   "metadata": {},
   "outputs": [],
   "source": [
    "pos = df[[\"goal_pos_x\", \"goal_pos_y\", \"goal_pos_z\"]].to_numpy()\n",
    "next_pos = df[\n",
    "\t[\"next_goal_pos_x\", \"next_goal_pos_y\", \"next_goal_pos_z\"]\n",
    "].to_numpy()"
   ]
  },
  {
   "cell_type": "code",
   "execution_count": 21,
   "id": "b2cb791b-c91f-47a2-b0dc-e67a6129ca45",
   "metadata": {},
   "outputs": [],
   "source": [
    "deltas = np.linalg.norm(next_pos - pos, axis=-1)"
   ]
  },
  {
   "cell_type": "code",
   "execution_count": 42,
   "id": "4d762ea0-f3e7-4a66-baf1-8e7dde9080db",
   "metadata": {},
   "outputs": [
    {
     "data": {
      "image/png": "[encoded data removed]",
      "text/plain": [
       "<Figure size 640x480 with 1 Axes>"
      ]
     },
     "metadata": {},
     "output_type": "display_data"
    }
   ],
   "source": [
    "plt.hist(deltas)\n",
    "plt.show()"
   ]
  },
  {
   "cell_type": "code",
   "execution_count": 35,
   "id": "fb20a591-ebd7-4d67-bc69-3f477fde3a51",
   "metadata": {},
   "outputs": [
    {
     "data": {
      "text/plain": [
       "array([ 60.89974637,  61.85680681,  67.24353921, 102.74933852,\n",
       "       104.96284737,  60.81035215,  61.96779528,  64.38504045,\n",
       "        63.00203592,  60.39956598,  63.7491881 ,  60.50615322,\n",
       "        63.22811977,  69.62220017])"
      ]
     },
     "execution_count": 35,
     "metadata": {},
     "output_type": "execute_result"
    }
   ],
   "source": []
  },
  {
   "cell_type": "code",
   "execution_count": 28,
   "id": "7d4922ea-2e11-4f9c-836d-1f8eac035892",
   "metadata": {},
   "outputs": [
    {
     "data": {
      "text/plain": [
       "array([ -72.07645188,  -53.97693475, -143.70956459])"
      ]
     },
     "execution_count": 28,
     "metadata": {},
     "output_type": "execute_result"
    }
   ],
   "source": [
    "pos[80234]"
   ]
  },
  {
   "cell_type": "code",
   "execution_count": 29,
   "id": "64929fc7-3cbd-4f40-b8bc-1adcf44aa21a",
   "metadata": {},
   "outputs": [
    {
     "data": {
      "text/plain": [
       "array([  30.9255982 ,  -73.1827437 , -149.94766601])"
      ]
     },
     "execution_count": 29,
     "metadata": {},
     "output_type": "execute_result"
    }
   ],
   "source": [
    "next_pos[80234]"
   ]
  },
  {
   "cell_type": "code",
   "execution_count": 36,
   "id": "27e3e1d6-42ed-4659-bd94-645d24a4e9fe",
   "metadata": {},
   "outputs": [
    {
     "data": {
      "text/plain": [
       "Unnamed: 0         80234.000000\n",
       "goal_pos_x           -72.076452\n",
       "goal_pos_y           -53.976935\n",
       "goal_pos_z          -143.709565\n",
       "vel_x                  1.919455\n",
       "vel_y                 -0.157569\n",
       "vel_z                  0.380862\n",
       "is_flipped             0.000000\n",
       "orn_x                 -0.401683\n",
       "orn_y                  0.350367\n",
       "orn_z                  0.668932\n",
       "orn_w                  0.518096\n",
       "action_0               0.516416\n",
       "action_1               0.300000\n",
       "next_goal_pos_x       30.925598\n",
       "next_goal_pos_y      -73.182744\n",
       "next_goal_pos_z     -149.947666\n",
       "next_vel_x             2.233245\n",
       "next_vel_y            -0.100681\n",
       "next_vel_z             1.647708\n",
       "next_is_flipped        1.000000\n",
       "next_orn_x             0.568005\n",
       "next_orn_y            -0.541814\n",
       "next_orn_z            -0.475025\n",
       "next_orn_w            -0.397693\n",
       "Name: 80234, dtype: float64"
      ]
     },
     "execution_count": 36,
     "metadata": {},
     "output_type": "execute_result"
    }
   ],
   "source": [
    "df.iloc[80234]"
   ]
  },
  {
   "cell_type": "code",
   "execution_count": null,
   "id": "08099ec7-ba62-4862-a589-9a5634fc2722",
   "metadata": {},
   "outputs": [],
   "source": []
  }
 ],
 "metadata": {
  "kernelspec": {
   "display_name": "Python 3 (ipykernel)",
   "language": "python",
   "name": "python3"
  },
  "language_info": {
   "codemirror_mode": {
    "name": "ipython",
    "version": 3
   },
   "file_extension": ".py",
   "mimetype": "text/x-python",
   "name": "python",
   "nbconvert_exporter": "python",
   "pygments_lexer": "ipython3",
   "version": "3.12.8"
  }
 },
 "nbformat": 4,
 "nbformat_minor": 5
}
